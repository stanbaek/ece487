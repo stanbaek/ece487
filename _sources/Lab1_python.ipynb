{
 "cells": [
  {
   "cell_type": "markdown",
   "metadata": {},
   "source": [
    "# 🔬 Lab 1 Python\n",
    "\n",
    "## Deliverable 1: Square Roots\n",
    "\n",
    "Write a Python script that computes square roots using the Newton's method of successive approximation, which says that whenever we have a guess $y$ for the value of the square root of a number $x$, we can perform a simple manipulation to get a better guess by averaging $y$ with $x/y$. For example we can compute the square root of 3 as shown below\n",
    "\n",
    "| Guess    | Quotient          | Average                    |\n",
    "|:--------:|:-----------------:|:--------------------------:|\n",
    "| $1$      | $3/1=3$           | $(3+1)/2=2.0$              | \n",
    "| $2.0$    | $3/2.0=1.5$       | $(2+1.5)/2=1.75$           |\n",
    "| $1.75$   | $3/1.75=1.7143$   | $(1.75+1.7143)/2=1.7321$   |                  \n",
    "| $1.7321$ | $\\cdots$          |                            |\n",
    "| $\\vdots$ |                   |                            | \n",
    "\n",
    "\n",
    "You need to iterate until $|y^2 - x| < \\epsilon$, where $\\epsilon = 10^{-9}$ is the tolerance. You are not allowed to use any functions in the `math` module except `math.fabs` for the absolute values.  "
   ]
  },
  {
   "cell_type": "code",
   "execution_count": 1,
   "metadata": {},
   "outputs": [],
   "source": [
    "from math import fabs\n",
    "\n",
    "# NOTE: DO NOT USE ANY OTHER FUNCTIONS IN THE MATH MODULE\n",
    "\n",
    "\n",
    "def sqrt(x, guess, tolerance):\n",
    "    # Write your code here\n",
    "\n",
    "    # solution\n",
    "    while fabs(x - guess**2) > tolerance:\n",
    "        quotient = x / guess\n",
    "        guess = (quotient + guess) / 2\n",
    "    return guess"
   ]
  },
  {
   "cell_type": "markdown",
   "metadata": {},
   "source": [
    "Test your function with the following code"
   ]
  },
  {
   "cell_type": "code",
   "execution_count": 2,
   "metadata": {},
   "outputs": [
    {
     "name": "stdout",
     "output_type": "stream",
     "text": [
      "0.7071067811873449\n",
      "1\n",
      "1.4142135623746899\n",
      "1.7320508075688772\n",
      "2.000000000000002\n",
      "18.526467553206142\n",
      "1.0900000000257766\n",
      "0.0010000001533016628\n"
     ]
    }
   ],
   "source": [
    "numbers = [0.5, 1, 2, 3, 4, 343.23, 1.09**2, 1e-6]\n",
    "initial_guess = 1\n",
    "tol = 1e-9\n",
    "\n",
    "\"\"\" This is not Pythonian and slow\n",
    "for i in range(len(numbers)):\n",
    "    print(sqrt(numbers[i], initial_guess, tol))\n",
    "\"\"\"\n",
    "\n",
    "# This is Pythonian and much faster than the code above\n",
    "for n in numbers:\n",
    "    print(sqrt(n, initial_guess, tol))"
   ]
  },
  {
   "cell_type": "markdown",
   "metadata": {},
   "source": [
    "## Deliverable 2\n",
    "Write the `num_vowels` function that takes a string argument and returns the number of lowercase vowels in the string."
   ]
  },
  {
   "cell_type": "code",
   "execution_count": 3,
   "metadata": {},
   "outputs": [],
   "source": [
    "def num_vowels(str):\n",
    "    # write your code here\n",
    "\n",
    "    # solution\n",
    "    count = 0\n",
    "    for c in str:\n",
    "        count = count + 1 if c in \"aieou\" else count  # 'aieouAIEOU':\n",
    "\n",
    "    return count"
   ]
  },
  {
   "cell_type": "markdown",
   "metadata": {},
   "source": [
    "Test your function with the following code"
   ]
  },
  {
   "cell_type": "code",
   "execution_count": 4,
   "metadata": {},
   "outputs": [
    {
     "name": "stdout",
     "output_type": "stream",
     "text": [
      "When the homework is due in an hour, \"Do or do not, there is no try.\" ==> 20 vowels.\n",
      "If you think this homework is too convoluted, I would say, \"I find your lack of faith disturbing.\" ==> 27 vowels.\n",
      "If you still can't solve this homework, spell \"Expecto Patronum!\"  ==> 16 vowels.\n",
      "Don’t worry if it doesn’t work right. If everything did, you’d be out of a job. ==> 20 vowels.\n",
      "The best thing about a boolean is even if you are wrong, you are only off by a bit. ==> 28 vowels.\n",
      "There are two ways to write error-free programs; only the third one works. (Alan J. Perlis) ==> 24 vowels.\n",
      "One man’s crappy software is another man’s full-time job. (Jessica Gaston) ==> 20 vowels.\n",
      "It’s not a bug – it’s an undocumented feature. ==> 14 vowels.\n",
      "Always code as if the guy who ends up maintaining your code will be a violent psychopath who knows where you live. ==> 35 vowels.\n",
      "A good programmer is someone who always looks both ways before crossing a one-way street. (Doug Linder) ==> 32 vowels.\n",
      "If debugging is the process of removing software bugs, then programming must be the process of putting them in. (Edsger Dijkstra) ==> 32 vowels.\n",
      "In order to understand recursion, one must first understand recursion. ==> 21 vowels.\n",
      "There are only two kinds of programming languages: those people always bitch about and those nobody uses. (Bjarne Stroustrup) ==> 38 vowels.\n",
      "Carefully read comments, but do not always trust them. (Stan Baek) ==> 17 vowels.\n"
     ]
    }
   ],
   "source": [
    "quotes = list()\n",
    "\n",
    "quotes.append(\n",
    "    'When the homework is due in an hour, \"Do or do not, there is no try.\"'\n",
    ")  # 20 vowels\n",
    "quotes.append(\n",
    "    'If you think this homework is too convoluted, I would say, \"I find your lack of faith disturbing.\"'\n",
    ")  # 30 vowels\n",
    "quotes.append(\n",
    "    \"\"\"If you still can't solve this homework, spell \"Expecto Patronum!\" \"\"\"\n",
    ")  # 18 vowels\n",
    "quotes.append(\n",
    "    \"Don’t worry if it doesn’t work right. If everything did, you’d be out of a job.\"\n",
    ")  # 21 vowels\n",
    "quotes.append(\n",
    "    \"The best thing about a boolean is even if you are wrong, you are only off by a bit.\"\n",
    ")  # 28 vowels\n",
    "quotes.append(\n",
    "    \"There are two ways to write error-free programs; only the third one works. (Alan J. Perlis)\"\n",
    ")  # 25 vowels\n",
    "quotes.append(\n",
    "    \"One man’s crappy software is another man’s full-time job. (Jessica Gaston)\"\n",
    ")  # 21 vowels\n",
    "quotes.append(\"It’s not a bug – it’s an undocumented feature.\")  # 15 vowels\n",
    "quotes.append(\n",
    "    \"Always code as if the guy who ends up maintaining your code will be a violent psychopath who knows where you live.\"\n",
    ")  # 36 vowels\n",
    "quotes.append(\n",
    "    \"A good programmer is someone who always looks both ways before crossing a one-way street. (Doug Linder)\"\n",
    ")  # 33 vowels\n",
    "quotes.append(\n",
    "    \"If debugging is the process of removing software bugs, then programming must be the process of putting them in. (Edsger Dijkstra)\"\n",
    ")  # 34 vowels\n",
    "quotes.append(\n",
    "    \"In order to understand recursion, one must first understand recursion.\"\n",
    ")  # 22 vowels\n",
    "quotes.append(\n",
    "    \"There are only two kinds of programming languages: those people always bitch about and those nobody uses. (Bjarne Stroustrup)\"\n",
    ")  # 38 vowels\n",
    "quotes.append(\n",
    "    \"Carefully read comments, but do not always trust them. (Stan Baek)\"\n",
    ")  # 18 vowels\n",
    "\n",
    "for quote in quotes:\n",
    "    print(quote + \" ==> \" + str(num_vowels(quote)) + \" vowels.\")"
   ]
  },
  {
   "cell_type": "code",
   "execution_count": null,
   "metadata": {},
   "outputs": [],
   "source": [
    "\n",
    "\n"
   ]
  }
 ],
 "metadata": {
  "kernelspec": {
   "display_name": "Python 3",
   "language": "python",
   "name": "python3"
  },
  "language_info": {
   "codemirror_mode": {
    "name": "ipython",
    "version": 3
   },
   "file_extension": ".py",
   "mimetype": "text/x-python",
   "name": "python",
   "nbconvert_exporter": "python",
   "pygments_lexer": "ipython3",
   "version": "3.11.1"
  },
  "orig_nbformat": 4
 },
 "nbformat": 4,
 "nbformat_minor": 2
}
