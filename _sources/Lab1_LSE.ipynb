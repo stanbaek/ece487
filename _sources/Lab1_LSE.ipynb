{
 "cells": [
  {
   "cell_type": "markdown",
   "id": "82970c44",
   "metadata": {
    "tags": []
   },
   "source": [
    "# 🔬 Lab 1: Least Squares "
   ]
  },
  {
   "cell_type": "markdown",
   "id": "80063cda-a0bd-4f1a-a27e-6c7c0421d284",
   "metadata": {},
   "source": [
    "Before starting this lab, please review the following tutorials: Python Basic, Python Intermediate, and Numpy.\n",
    "\n",
    "- [Python Basic](PythonBasic.md): While you may already be familiar with much of this material, it's recommended to review it as a refresher.\n",
    "- [Python Intermediate](PythonIntermediate.md): Go through this tutorial carefully. Many past ECE487 cadets lacked familiarity with the topics covered here.\n",
    "- [NumPy](NumPy.md): We will be using NumPy extensively in this class. A solid understanding of this tutorial is highly recommended.\n"
   ]
  },
  {
   "cell_type": "markdown",
   "id": "fa6cda5d-cfc0-43f1-89ac-6b3904ed493e",
   "metadata": {},
   "source": [
    "## Least Sqaures Estimation\n",
    "\n",
    "In this lab, we will solve a least squares regression problem to find the best-fit linear equation for a set of measured data. Let the measured data be represented by $\\mathbf{t} = (t_1, t_2, \\cdots, t_n)$, with corresponding input values $\\mathbf{x} = (x_1, x_2, \\cdots, x_n)$.\n",
    "\n",
    "Our goal is to find $w_1$ and $w_0$ such that the equation $t = w_1x + w_0$ best approximates the linear relationship between $x$ and $t$.\n",
    "\n",
    "### Plotting the Data\n",
    "First, let's visualize the data:"
   ]
  },
  {
   "cell_type": "code",
   "execution_count": 1,
   "id": "33ae24f5",
   "metadata": {},
   "outputs": [
    {
     "data": {
      "image/png": "[encoded data removed]",
      "text/plain": [
       "<Figure size 400x300 with 1 Axes>"
      ]
     },
     "metadata": {},
     "output_type": "display_data"
    }
   ],
   "source": [
    "import numpy as np\n",
    "import matplotlib.pyplot as plt\n",
    "\n",
    "x = np.array([0, 1, 2, 3])\n",
    "t = np.array([-1, 0.4, 0.7, 2.1])\n",
    "\n",
    "fig = plt.figure(figsize=(4, 3))\n",
    "ax = fig.add_subplot()\n",
    "\n",
    "plt.plot(x, t, \"o\", markersize=5)\n",
    "plt.xlabel(\"x\")\n",
    "plt.ylabel(\"t\")\n",
    "plt.grid(True)\n",
    "plt.show()"
   ]
  },
  {
   "cell_type": "markdown",
   "id": "51376a34",
   "metadata": {},
   "source": [
    "### Linear Equation in Matrix Form\n",
    "\n",
    "We can express the linear equation in matrix form as $t = \\mathbf{c} \\cdot \\mathbf{w}$, where:\n",
    "\n",
    "$\\mathbf{c} = \\begin{bmatrix} x & 1 \\end{bmatrix}$ and $\\mathbf{w} = \\begin{bmatrix} w_1 \\ w_0 \\end{bmatrix}$. This gives us:\n",
    "\n",
    "$t = w_1x + w_0 = \\begin{bmatrix} x & 1 \\end{bmatrix} \\begin{bmatrix} w_1 \\ w_0 \\end{bmatrix} = \\mathbf{c} \\cdot \\mathbf{w}$.\n",
    "\n",
    "Given $\\mathbf{x} = (x_1, x_2, \\cdots, x_n)$ and $\\mathbf{t} = (t_1, t_2, \\cdots, t_n)$, we can set up the following system of equations:\n",
    "\n",
    "$\\begin{bmatrix} -1 \\ 0.4 \\ 0.7 \\ 2.1 \\end{bmatrix} = \\begin{bmatrix} 0 & 1 \\ 1 & 1 \\ 2 & 1 \\ 3 & 1 \\end{bmatrix} \\begin{bmatrix} w_1 \\ w_0 \\end{bmatrix}$,\n",
    "\n",
    "or, in matrix notation, $\\mathbf{t} = \\mathbf{C}\\mathbf{w}$.\n",
    "\n",
    "Here:\n",
    "\n",
    "$\\mathbf{C} = \\begin{bmatrix} x_1 & 1 \\ x_2 & 1 \\ x_3 & 1 \\ x_4 & 1 \\end{bmatrix} = \\begin{bmatrix} 0 & 1 \\ 1 & 1 \\ 2 & 1 \\ 3 & 1 \\end{bmatrix}$.\n",
    "\n",
    "### Creating the Matrix $\\mathbf{C}$\n",
    "\n",
    "We can create the $C$ matrix using `np.column_stack`"
   ]
  },
  {
   "cell_type": "code",
   "execution_count": 2,
   "id": "88c1e09e",
   "metadata": {},
   "outputs": [
    {
     "name": "stdout",
     "output_type": "stream",
     "text": [
      "[[0 1]\n",
      " [1 1]\n",
      " [2 1]\n",
      " [3 1]]\n"
     ]
    }
   ],
   "source": [
    "ones = np.ones_like(x)  # Create an array of ones with the same shape as x\n",
    "C = np.column_stack((x, ones))  # Combine x and ones as columns\n",
    "print(C)"
   ]
  },
  {
   "cell_type": "markdown",
   "id": "c721f931-9fb1-47d3-a48f-1301387d28f2",
   "metadata": {},
   "source": [
    "### Solving for $\\mathbf{w}$ Using np.linalg.lstsq\n",
    "\n",
    "Next, we can use the np.linalg.lstsq function to solve for $\\mathbf{w}$:"
   ]
  },
  {
   "cell_type": "code",
   "execution_count": 3,
   "id": "6cd2763f",
   "metadata": {},
   "outputs": [
    {
     "name": "stdout",
     "output_type": "stream",
     "text": [
      "[ 0.96 -0.89]\n",
      "0.9599999999999999 -0.8899999999999998\n"
     ]
    }
   ],
   "source": [
    "w = np.linalg.lstsq(C, t, rcond=None)[0]\n",
    "print(w)\n",
    "# Or you can extract the individual coefficients\n",
    "w1, w0 = np.linalg.lstsq(C, t, rcond=None)[0]\n",
    "print(w1, w0)"
   ]
  },
  {
   "cell_type": "markdown",
   "id": "72c49259-6aa2-4359-9410-a771e254570d",
   "metadata": {},
   "source": [
    "With $w_1 = 0.96$ and $w_0 = -0.89$, the best-fitting line is:\n",
    "\n",
    "$t = 0.96x - 0.89$\n",
    "\n",
    "### Plotting the Fitted Line\n",
    "\n",
    "Now, let's plot the fitted line alongside the data points:"
   ]
  },
  {
   "cell_type": "code",
   "execution_count": 4,
   "id": "740f60b1",
   "metadata": {},
   "outputs": [
    {
     "data": {
      "image/png": "[encoded data removed]",
      "text/plain": [
       "<Figure size 400x300 with 1 Axes>"
      ]
     },
     "metadata": {},
     "output_type": "display_data"
    }
   ],
   "source": [
    "fig = plt.figure(figsize=(4, 3))\n",
    "ax = fig.add_subplot()\n",
    "\n",
    "plt.plot(x, t, \"o\", label=\"Measurements\", markersize=5)\n",
    "plt.plot(x, w1 * x + w0, \"r\", label=\"Fitted Line\")\n",
    "plt.xlabel(\"x\")\n",
    "plt.ylabel(\"t\")\n",
    "plt.legend()\n",
    "plt.grid(True)\n",
    "plt.show()"
   ]
  },
  {
   "cell_type": "markdown",
   "id": "7a2d470d-76a6-4081-bb9a-7aa90ca3bf25",
   "metadata": {},
   "source": [
    "## 💻 Procedure\n",
    "\n",
    "### Update Your Code\n",
    "\n",
    "1. Navigate to the ECE487 workspace, `ece487_wksp`.\n",
    "1. Right-click on the `ece487_wksp` folder and choose `Git Bash Here` from the menu.   \n",
    "1. To pull the latest updates, run the following command:\n",
    "```bash\n",
    "git pull upstream main\n",
    "```\n",
    "\n",
    "### Galilei's Falling Body Experiment\n",
    "\n",
    "1. Open the `falling_body.ipynb` notebook in VS Code.\n",
    "1. Carefully review the contents of this notebook to understand the three different techniques used for curve fitting.\n",
    "\n",
    "### Deliverables\n",
    "\n",
    "1. Open the `Lab1_LSE.ipynb` notebook using VS Code.\n",
    "1. Follow the instructions within the notebook to complete your code.\n",
    "1. **Push your code to your GitHub repository and submit the output plot in Gradescope.**\n"
   ]
  }
 ],
 "metadata": {
  "kernelspec": {
   "display_name": ".venv",
   "language": "python",
   "name": "python3"
  },
  "language_info": {
   "codemirror_mode": {
    "name": "ipython",
    "version": 3
   },
   "file_extension": ".py",
   "mimetype": "text/x-python",
   "name": "python",
   "nbconvert_exporter": "python",
   "pygments_lexer": "ipython3",
   "version": "3.10.11"
  }
 },
 "nbformat": 4,
 "nbformat_minor": 5
}
